import sys
sys.path.append('lib')
import IceWeb
from obspy import UTCDateTime
startt = UTCDateTime(2022,8,1)
endt = UTCDateTime(2022,8,2)
SDS_TOP='.'
rsamobj = IceWeb.RSAMobj()
print(rsamobj)
rsamobj.read(startt, endt, SDS_TOP, corrected=True)
print(rsamobj)
rsamobj.plot()
